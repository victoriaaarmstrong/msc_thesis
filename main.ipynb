{
 "cells": [
  {
   "cell_type": "code",
   "execution_count": 10,
   "metadata": {
    "collapsed": true
   },
   "outputs": [],
   "source": [
    "import matplotlib.pyplot as plt\n",
    "import pandas as pd\n",
    "import numpy as np\n",
    "import os.path\n",
    "from os import path\n",
    "import math\n",
    "import heartpy as hp\n",
    "from scipy.stats import mode"
   ]
  },
  {
   "cell_type": "code",
   "execution_count": 17,
   "outputs": [],
   "source": [
    "PARTICIPANT = \"participant_8\"\n",
    "\n",
    "## Log Reg\n",
    "\n",
    "## RF\n",
    "\n",
    "## SVM\n",
    "\n",
    "## NN if needed"
   ],
   "metadata": {
    "collapsed": false,
    "pycharm": {
     "name": "#%%\n"
    }
   }
  },
  {
   "cell_type": "code",
   "execution_count": 18,
   "outputs": [
    {
     "name": "stdout",
     "output_type": "stream",
     "text": [
      "compiling individual data files...\n",
      "combined files saved\n",
      "\n",
      " *** DATA PREVIEW ***\n",
      "                              bvp   bpm  pump_on  vacuum_on   temp     x  \\\n",
      "time                                                                       \n",
      "2022-2-18 10-42-30  253011.540160  4.83      NaN        NaN  25.98 -7.29   \n",
      "2022-2-18 10-42-30  253078.043929  4.83      NaN        NaN  25.88 -7.28   \n",
      "2022-2-18 10-42-30  253145.287680  4.83      NaN        NaN  26.08 -7.24   \n",
      "2022-2-18 10-42-30  253213.150936  4.83      NaN        NaN  25.98 -7.25   \n",
      "2022-2-18 10-42-30  253281.502102  4.83      NaN        NaN  25.98 -7.26   \n",
      "\n",
      "                       y     z  \n",
      "time                            \n",
      "2022-2-18 10-42-30 -5.57  2.23  \n",
      "2022-2-18 10-42-30 -5.60  2.34  \n",
      "2022-2-18 10-42-30 -5.66  2.22  \n",
      "2022-2-18 10-42-30 -5.56  2.16  \n",
      "2022-2-18 10-42-30 -5.57  2.04  \n"
     ]
    }
   ],
   "source": [
    "###########################\n",
    "## Load or Compile Files ##\n",
    "###########################\n",
    "\n",
    "if path.exists(\"data/saved/\" + PARTICIPANT):\n",
    "    ## Read in already saved dataframe\n",
    "    print(\"file data already extracted, opening...\")\n",
    "    data = pd.read_pickle(\"data/saved/\" + PARTICIPANT)\n",
    "    print(\"successfully opened\")\n",
    "    pass\n",
    "\n",
    "else:\n",
    "    print(\"compiling individual data files...\")\n",
    "\n",
    "    ## Collect each mini .csv file to a df\n",
    "    individual_dfs = []\n",
    "    for f in os.listdir(\"data/raw/\" + PARTICIPANT):\n",
    "        small_df = pd.read_csv(\"data/raw/\"+ PARTICIPANT + \"/\" + f, header=0)\n",
    "        individual_dfs.append(small_df)\n",
    "\n",
    "    ## Put these dfs together\n",
    "    data = pd.concat(individual_dfs, axis=0)\n",
    "\n",
    "    ## Format the time correctly\n",
    "    data[\"time\"] = data['year'].astype(str) + \"-\" + data['month'].astype(str) + \"-\" + data['day'].astype(str) + \" \" + data['hour'].astype(str) + \"-\" + data['minute'].astype(str) + \"-\" + data['second'].astype(str)\n",
    "    data = data.drop([\"id\", \"year\", \"month\", \"day\", \"hour\", \"minute\", \"second\"], axis=1)\n",
    "    data = data.set_index(\"time\")\n",
    "\n",
    "    ## Sort by time\n",
    "    data = data.sort_index()\n",
    "\n",
    "    ## Filter IR to BVP with a highpass filter\n",
    "    data['ir'] = hp.filter_signal(data[\"ir\"], cutoff = 0.75, sample_rate = 100.0)\n",
    "    data.rename(columns = {'ir':'bvp'}, inplace = True)\n",
    "\n",
    "    ## Smooth pump and vacuum labels\n",
    "    data['pump_on'] = data['pump_on'].rolling(10, center=True).apply(lambda x: mode(x)[0])\n",
    "    data['vacuum_on'] = data['vacuum_on'].rolling(10, center=True).apply(lambda x: mode(x)[0])\n",
    "\n",
    "    ## Fill the first 9 values with the same as value 10 to get rid of the nan, unless you do the first 5% and last 5% cut for outliers\n",
    "    ## Save to .pkl file\n",
    "    data.to_pickle(\"data/saved/\" + PARTICIPANT)\n",
    "    print(\"combined files saved\")\n",
    "\n",
    "print(\"\\n *** DATA PREVIEW ***\")\n",
    "print(data.head())\n"
   ],
   "metadata": {
    "collapsed": false,
    "pycharm": {
     "name": "#%%\n"
    }
   }
  },
  {
   "cell_type": "code",
   "execution_count": 54,
   "outputs": [],
   "source": [
    "def count_events(df):\n",
    "    num_events = 0\n",
    "    #events = []\n",
    "    ctr = 0\n",
    "    previous = 'off'\n",
    "\n",
    "    values = df['pump_on'].tolist()\n",
    "\n",
    "    for i in range(1, len(values)):\n",
    "        if previous != values[i] and values[i] == \"on\":\n",
    "            previous = values[i]\n",
    "            num_events += 1\n",
    "            ctr += 1\n",
    "        elif previous != values[i] and values[i] == \"off\":\n",
    "            previous = values[i]\n",
    "            ctr +=1\n",
    "        else:\n",
    "            ctr +=1\n",
    "\n",
    "    ## figure out how to return time stamps for each of these events?\n",
    "    ## find longest and shortest activation\n",
    "    ## find average length of activation\n",
    "\n",
    "    return num_events"
   ],
   "metadata": {
    "collapsed": false,
    "pycharm": {
     "name": "#%%\n"
    }
   }
  },
  {
   "cell_type": "code",
   "execution_count": 55,
   "outputs": [
    {
     "name": "stdout",
     "output_type": "stream",
     "text": [
      "15\n"
     ]
    },
    {
     "data": {
      "text/plain": "<Figure size 432x288 with 1 Axes>",
      "image/png": "[encoded data removed]"
     },
     "metadata": {
      "needs_background": "light"
     },
     "output_type": "display_data"
    },
    {
     "data": {
      "text/plain": "<Figure size 432x288 with 1 Axes>",
      "image/png": "[encoded data removed]"
     },
     "metadata": {
      "needs_background": "light"
     },
     "output_type": "display_data"
    }
   ],
   "source": [
    "############################\n",
    "## Descriptive Statistics ##\n",
    "############################\n",
    "\n",
    "## Divide into continuous and categorical\n",
    "continuous_cols = data[[\"bvp\", \"bpm\", \"temp\", \"x\", \"y\", \"z\"]]\n",
    "categorical_cols = data[[\"pump_on\", \"vacuum_on\"]]\n",
    "categorical_cols = categorical_cols.replace({0.0: \"off\", 1.0: \"on\"})\n",
    "\n",
    "## Continuous column stat\n",
    "num_nan_cont = continuous_cols.isna().sum()\n",
    "descriptive_stats_cont = continuous_cols.describe()\n",
    "kurt = continuous_cols.kurtosis()\n",
    "skew = continuous_cols.skew()\n",
    "\n",
    "# boxplots for each column\n",
    "for column in continuous_cols:\n",
    "    figure = plt.figure()\n",
    "    boxplot = continuous_cols[[column]].boxplot()\n",
    "    figure.savefig(\"plots/\" + PARTICIPANT + \"_boxplot_\" + column + \".svg\", format=\"svg\")\n",
    "\n",
    "# histograms for each column\n",
    "for column in continuous_cols:\n",
    "    ##Freedman-Diaconis Bin Size\n",
    "    q25 = continuous_cols[column].quantile(0.25)\n",
    "    q75 = continuous_cols[column].quantile(0.75)\n",
    "    max = continuous_cols[column].max()\n",
    "    min = continuous_cols[column].min()\n",
    "    num = len(continuous_cols)\n",
    "    bin_width = (2*(q75 - q25)) /(num**(1/3))\n",
    "    num_bins = math.ceil((max - min) / bin_width)\n",
    "    figure = plt.figure()\n",
    "    hist = continuous_cols[[column]].hist(bins=num_bins)\n",
    "    figure.savefig(\"plots/\" + PARTICIPANT + \"_hist_\" + column + \".svg\", format=\"svg\")\n",
    "\n",
    "\n",
    "## Categorical column stats\n",
    "num_nan_cat = categorical_cols.isna().sum()\n",
    "descriptive_stats_cat = categorical_cols.describe()\n",
    "value_counts  = categorical_cols.value_counts()\n",
    "# add percentage of time pump on - just simple division with length of df and the value counts\n",
    "# add percentage of time vacuum on - same as above\n",
    "\n",
    "for column in categorical_cols:\n",
    "    figure = plt.figure()\n",
    "    bar_graph = categorical_cols[[column]].value_counts().plot(kind=\"barh\")\n",
    "    figure.savefig(\"plots/\" + PARTICIPANT + \"_bar_\" + column + \".svg\", format=\"svg\")\n",
    "\n",
    "num_pump_on = count_events(categorical_cols[['pump_on']])\n",
    "num_vacuum_on = count_events(categorical_cols[['vacuum_on']])\n",
    "# maybe extract lengths of pump time on and off\n",
    "\n",
    "## there's a df.bivariate analysis function, do it for each of the columns pairwise\n",
    "## repeat for categorical with it's specific stats\n",
    "\n",
    "\n",
    "## remove outliers shown on boxplots\n",
    "## remove first 5% and last 5%\n",
    "\n",
    "## export all of this to a .txt file as a report (pX_report.txt)\n",
    "## figure out how to best do this"
   ],
   "metadata": {
    "collapsed": false,
    "pycharm": {
     "name": "#%%%\n"
    }
   }
  },
  {
   "cell_type": "code",
   "execution_count": null,
   "outputs": [],
   "source": [
    "#######################\n",
    "## Train Test Splits ##\n",
    "#######################\n",
    "\n",
    "## figure out a bunch of different train testing split percentages\n",
    "\n",
    "## add to a list to iterate over so that you can use them in the next part"
   ],
   "metadata": {
    "collapsed": false,
    "pycharm": {
     "name": "#%%\n"
    }
   }
  },
  {
   "cell_type": "code",
   "execution_count": null,
   "outputs": [],
   "source": [
    "#################\n",
    "## Data Mining ##\n",
    "#################\n",
    "\n",
    "## go over what you want to do, keep it as simple as possible and only go more intense if you need to\n",
    "## maybe you can pull in size of model - want to keep it small if it needs to go on board\n",
    "## get training time for each model, could use this as motivation for customization for each person, since a short amount of time means we could do it on device or some shit like that "
   ],
   "metadata": {
    "collapsed": false,
    "pycharm": {
     "name": "#%%\n"
    }
   }
  }
 ],
 "metadata": {
  "kernelspec": {
   "display_name": "Python 3",
   "language": "python",
   "name": "python3"
  },
  "language_info": {
   "codemirror_mode": {
    "name": "ipython",
    "version": 2
   },
   "file_extension": ".py",
   "mimetype": "text/x-python",
   "name": "python",
   "nbconvert_exporter": "python",
   "pygments_lexer": "ipython2",
   "version": "2.7.6"
  }
 },
 "nbformat": 4,
 "nbformat_minor": 0
}